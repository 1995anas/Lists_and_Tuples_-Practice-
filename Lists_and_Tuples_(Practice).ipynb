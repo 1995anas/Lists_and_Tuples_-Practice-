{
  "nbformat": 4,
  "nbformat_minor": 0,
  "metadata": {
    "colab": {
      "provenance": []
    },
    "kernelspec": {
      "name": "python3",
      "display_name": "Python 3"
    },
    "language_info": {
      "name": "python"
    }
  },
  "cells": [
    {
      "cell_type": "markdown",
      "source": [
        "# Lists and Tuples (Practice)\n",
        "- **Anas Abu Alhaija**"
      ],
      "metadata": {
        "id": "og8LwOLbyRxm"
      }
    },
    {
      "cell_type": "markdown",
      "source": [
        "# Lists\n",
        "\n",
        "## Turtle Racing\n",
        "\n",
        "Longville, MN holds turtle races each summer.  Prizes are given out for the fastest and slowest turtles.\n"
      ],
      "metadata": {
        "id": "vmBZ_iwwSVk5"
      }
    },
    {
      "cell_type": "markdown",
      "source": [
        "##1. Create a list\n",
        "Let's make a list of turtles in the order that they crossed the finish line. Remember, lists are surrounded by square brackets [ ]."
      ],
      "metadata": {
        "id": "qDWKi2akmXMC"
      }
    },
    {
      "cell_type": "code",
      "source": [
        "race_finishers = ['Speedy', 'Sparkles', 'Little Foot', 'Spike', 'Greg the Destroyer']"
      ],
      "metadata": {
        "id": "_Mu3gJFwzJui"
      },
      "execution_count": 1,
      "outputs": []
    },
    {
      "cell_type": "code",
      "source": [
        "# print the list\n",
        "print(race_finishers)"
      ],
      "metadata": {
        "colab": {
          "base_uri": "https://localhost:8080/"
        },
        "id": "hT59ZX8ZzNYE",
        "outputId": "eaa0b818-b458-4ef0-8389-b50afee01cd8"
      },
      "execution_count": 2,
      "outputs": [
        {
          "output_type": "stream",
          "name": "stdout",
          "text": [
            "['Speedy', 'Sparkles', 'Little Foot', 'Spike', 'Greg the Destroyer']\n"
          ]
        }
      ]
    },
    {
      "cell_type": "markdown",
      "source": [
        "##2. Append an item to a list\n",
        "Finally! The final turtle named Slowpoke just finished so add them to the list using .append()\n"
      ],
      "metadata": {
        "id": "pduxD3-JgE7e"
      }
    },
    {
      "cell_type": "code",
      "source": [
        "race_finishers.append('Slowpoke')\n",
        "print(race_finishers)"
      ],
      "metadata": {
        "colab": {
          "base_uri": "https://localhost:8080/"
        },
        "id": "U2_hS-7Ozd_C",
        "outputId": "dc896755-c269-4d05-af97-3639359b9d70"
      },
      "execution_count": 3,
      "outputs": [
        {
          "output_type": "stream",
          "name": "stdout",
          "text": [
            "['Speedy', 'Sparkles', 'Little Foot', 'Spike', 'Greg the Destroyer', 'Slowpoke']\n"
          ]
        }
      ]
    },
    {
      "cell_type": "markdown",
      "source": [],
      "metadata": {
        "id": "ScFG7iZ6zuRC"
      }
    },
    {
      "cell_type": "markdown",
      "source": [
        "##3. Use indexing with a list\n",
        "\n",
        "\n",
        "Indices in Python start counting from 0.  In the following cell, use list indexing to print the first place winner of the race.  The owner of that turtle will get a coupon for a free ice cream cone!\n",
        "\n",
        "Remember that you can index into a collection using brackets, like `collection[3]`.  Use this syntax to print the first racer in the `race_finishers` list."
      ],
      "metadata": {
        "id": "fYXNbbgIXK4I"
      }
    },
    {
      "cell_type": "markdown",
      "source": [
        "| Index           |   0    |    1     |     2       |   3   |         4          |    5     |\n",
        "|-----------------|--------|----------|-------------|-------|--------------------|----------|\n",
        "| race_winners =  | Speedy | Sparkles | Little Foot | Spike | Greg the Destroyer | Slowpoke |\n",
        "| Negative Index  |    -6    |    -5     |     -4       |    -3   |       -2          |     -1     |"
      ],
      "metadata": {
        "id": "mYd1qAVYAFV0"
      }
    },
    {
      "cell_type": "code",
      "source": [
        "# print the first place finisher at the index position 0\n",
        "print(race_finishers[0])"
      ],
      "metadata": {
        "colab": {
          "base_uri": "https://localhost:8080/"
        },
        "id": "Ab9NR7zizogg",
        "outputId": "acabc51e-b879-4701-979e-b33728687682"
      },
      "execution_count": 5,
      "outputs": [
        {
          "output_type": "stream",
          "name": "stdout",
          "text": [
            "Speedy\n"
          ]
        }
      ]
    },
    {
      "cell_type": "markdown",
      "source": [
        "## 4. Use negative indexing with a list\n",
        "\n",
        "The owner of the slowest turtle will get a coupon for a free chocolate bar!  Remember that negative index numbers count backward from the end of the list. `collection[-3]` would return the 3rd from the last item from a collection.\n",
        "\n",
        "* Use negative indexing to print the last place racer in the `race_finishers` list.  "
      ],
      "metadata": {
        "id": "vKxzHXKgXcwa"
      }
    },
    {
      "cell_type": "code",
      "source": [
        "# print the last place finisher at the index position -1\n",
        "print(race_finishers[-1])"
      ],
      "metadata": {
        "colab": {
          "base_uri": "https://localhost:8080/"
        },
        "id": "Pw0b_Qbjz9Yl",
        "outputId": "e1f8979e-cb72-4544-a5d2-456bd60af579"
      },
      "execution_count": 6,
      "outputs": [
        {
          "output_type": "stream",
          "name": "stdout",
          "text": [
            "Slowpoke\n"
          ]
        }
      ]
    },
    {
      "cell_type": "markdown",
      "source": [
        "## 5. Edit an item in a list\n",
        "\n",
        "We just found out that we got the name of the second place turtle wrong.  We wrote 'Sparkles' when it's name is actually 'Sparkly'  We can use indexing to change the second value in a list because lists are both ordered and mutable.  Remember the second value is race_finishers[1]"
      ],
      "metadata": {
        "id": "tNXGnzlln5ms"
      }
    },
    {
      "cell_type": "code",
      "source": [
        "race_finishers[1] = 'Sparkly'\n",
        "print(race_finishers)"
      ],
      "metadata": {
        "id": "BwbiUhpeW-_m",
        "colab": {
          "base_uri": "https://localhost:8080/"
        },
        "outputId": "a1e817dc-a63c-4f33-9e80-be160c58fcfe"
      },
      "execution_count": 7,
      "outputs": [
        {
          "output_type": "stream",
          "name": "stdout",
          "text": [
            "['Speedy', 'Sparkly', 'Little Foot', 'Spike', 'Greg the Destroyer', 'Slowpoke']\n"
          ]
        }
      ]
    },
    {
      "cell_type": "markdown",
      "source": [
        "##6. Remove an item from a list\n",
        "Oh no, it turns out Little Foot was disqaulified.  Use .remove() to remove him from the list."
      ],
      "metadata": {
        "id": "9hfl06OahviT"
      }
    },
    {
      "cell_type": "code",
      "source": [
        "race_finishers.remove('Little Foot')\n",
        "print(race_finishers)"
      ],
      "metadata": {
        "colab": {
          "base_uri": "https://localhost:8080/"
        },
        "id": "zk09kcCW1bC4",
        "outputId": "83cdfee3-f57d-4a30-b938-e438bf71d444"
      },
      "execution_count": 8,
      "outputs": [
        {
          "output_type": "stream",
          "name": "stdout",
          "text": [
            "['Speedy', 'Sparkly', 'Spike', 'Greg the Destroyer', 'Slowpoke']\n"
          ]
        }
      ]
    },
    {
      "cell_type": "markdown",
      "source": [
        "# Tuples"
      ],
      "metadata": {
        "id": "FRo3qcAlcI4v"
      }
    },
    {
      "cell_type": "markdown",
      "source": [
        "## Costume Shop Resupply\n",
        "\n",
        "A costume shop is ordering merchandise to replenish their stock.  Some items sell out very quickly and others are not as popular.  The shop keep track of how many of each item sells and makes tuple of items in order of most popular to least popular.\n",
        "\n"
      ],
      "metadata": {
        "id": "ltbPs3qRlLdL"
      }
    },
    {
      "cell_type": "markdown",
      "source": [
        "## 7. Create a Tuple\n",
        "\n",
        "Remember tuples are surrounded by parenthesis. ()"
      ],
      "metadata": {
        "id": "OACRkwy7nqOK"
      }
    },
    {
      "cell_type": "code",
      "source": [
        "# Create a tuple of costume merchandise\n",
        "merchandise = ('Fangs', 'Tutus', 'Clown Noses', 'Scrubs', 'Cowboy Hats', 'Face Paint', 'Plastic Swords')\n",
        "print(merchandise)"
      ],
      "metadata": {
        "colab": {
          "base_uri": "https://localhost:8080/"
        },
        "id": "bUajdb6j2c3u",
        "outputId": "8eab45ec-b736-48cc-b1f0-0532783b610a"
      },
      "execution_count": 9,
      "outputs": [
        {
          "output_type": "stream",
          "name": "stdout",
          "text": [
            "('Fangs', 'Tutus', 'Clown Noses', 'Scrubs', 'Cowboy Hats', 'Face Paint', 'Plastic Swords')\n"
          ]
        }
      ]
    },
    {
      "cell_type": "markdown",
      "source": [
        "| Index          |   0   |    1  |     2       |   3    |         4   |    5       | 6              |\n",
        "|----------------|-------|-------|-------------|--------|-------------|------------|----------------|\n",
        "| merchandise =  | Fangs | Tutus | Clown Noses | Scrubs | Cowboy Hats | Face Paint | Plastic Swords |\n",
        "| Negative Index | -7    |   -6  |    -5       | -4     | -3          | -2         | -1             |"
      ],
      "metadata": {
        "id": "pxIvijkBCjtE"
      }
    },
    {
      "cell_type": "markdown",
      "source": [
        "##8. Slicing from the start of a tuple\n",
        "\n",
        "The shop wants to order plenty of their top 3 best sellers to make sure they keep them in stock.\n",
        "\n",
        "Slice into the `merchandise` tuple to return the first 3 elements of the tuple.  Remember:\n",
        "1. If there is no value before the colon the slice will begin at the beginning of the tuple (or list).  For example [0:3] can also be written as [:3]\n",
        "2. A slice **excludes** the index position after the colon."
      ],
      "metadata": {
        "id": "ewWVDhvAnjKs"
      }
    },
    {
      "cell_type": "code",
      "source": [
        "top_3 = merchandise[0:3]\n",
        "print(top_3)"
      ],
      "metadata": {
        "colab": {
          "base_uri": "https://localhost:8080/"
        },
        "id": "8lXv6kii3EoR",
        "outputId": "282d7c5f-fa40-4513-bfc0-5b28e87a4651"
      },
      "execution_count": 13,
      "outputs": [
        {
          "output_type": "stream",
          "name": "stdout",
          "text": [
            "('Fangs', 'Tutus', 'Clown Noses')\n"
          ]
        }
      ]
    },
    {
      "cell_type": "markdown",
      "source": [
        "## 8. Slicing from the end of a tuple\n",
        "\n",
        "The shop wants to discontinue the two least popular items in the list.  \n",
        "\n",
        "* Slice into the `merchandise` tuple and return the last two elements.  Remember:\n",
        "  1. You can use negative indexing to count backward from the end of a collection\n",
        "  2. When you want to slice everything after a certain point in a collection, put the starting point before the colon and don't put anything after the colon."
      ],
      "metadata": {
        "id": "hEE2tRbho7lW"
      }
    },
    {
      "cell_type": "code",
      "source": [
        "last_2 = merchandise[-2:]\n",
        "print(last_2)"
      ],
      "metadata": {
        "colab": {
          "base_uri": "https://localhost:8080/"
        },
        "id": "JAwyRCfU3nhD",
        "outputId": "9e951566-2b09-4d6f-83bb-4d5550baf249"
      },
      "execution_count": 14,
      "outputs": [
        {
          "output_type": "stream",
          "name": "stdout",
          "text": [
            "('Face Paint', 'Plastic Swords')\n"
          ]
        }
      ]
    },
    {
      "cell_type": "markdown",
      "source": [
        "##9. Slicing items from the middle of a tuple\n",
        "\n",
        ". Reminders:\n",
        "\n",
        "1. A slice **includes** the index before the colon.\n",
        "2. A slice **excludes** the index after the colon.\n",
        "3. Python indexing starts at 0, so the second item is at index 1."
      ],
      "metadata": {
        "id": "YdG4i71fqkdL"
      }
    },
    {
      "cell_type": "code",
      "source": [
        "# Slice out the 2nd and 3rd items form the tuple\n",
        "middle_itmes = (merchandise[1],merchandise[2])\n",
        "print(middle_itmes)"
      ],
      "metadata": {
        "colab": {
          "base_uri": "https://localhost:8080/"
        },
        "id": "6msPSlT14Nrl",
        "outputId": "07af0335-0e5f-46be-ec05-f52cbfe7deef"
      },
      "execution_count": 17,
      "outputs": [
        {
          "output_type": "stream",
          "name": "stdout",
          "text": [
            "('Tutus', 'Clown Noses')\n"
          ]
        }
      ]
    },
    {
      "cell_type": "markdown",
      "source": [
        "## Reminder: Tuples are immutable\n",
        "\n",
        "Our supplier has changed 'Cowboy Hats' to 'Cowpoke Hats'.  Can we change this in our tuple?\n",
        "\n",
        "NO! Tuples are immutable meaning they cannot be changed or updated.\n"
      ],
      "metadata": {
        "id": "NRs5Kl0JreEz"
      }
    }
  ]
}